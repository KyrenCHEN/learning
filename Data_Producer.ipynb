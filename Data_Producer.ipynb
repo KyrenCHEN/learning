{
 "cells": [
  {
   "cell_type": "code",
   "execution_count": 62,
   "metadata": {
    "collapsed": true
   },
   "outputs": [],
   "source": [
    "import pickle\n",
    "\n",
    "# 1121An arbitrary collection of objects supported by pickle.\n",
    "data = {\n",
    "    'a': [1, 2.0, 3, 4+6j],\n",
    "    'b': (\"character string\", b\"byte string\"),\n",
    "    'c': {None, True, False}\n",
    "}\n",
    "\n",
    "with open('data.pickle', 'wb') as f:\n",
    "    # Pickle the 'data' dictionary using the highest protocol available.\n",
    "    pickle.dump(data, f, pickle.HIGHEST_PROTOCOL)\n",
    "    "
   ]
  },
  {
   "cell_type": "code",
   "execution_count": 63,
   "metadata": {
    "collapsed": true
   },
   "outputs": [],
   "source": [
    "import pickle\n",
    "\n",
    "with open('data.pickle', 'rb') as f:\n",
    "    # The protocol version used is detected automatically, so we do not\n",
    "    # have to specify it.\n",
    "    data = pickle.load(f)"
   ]
  },
  {
   "cell_type": "code",
   "execution_count": 64,
   "metadata": {},
   "outputs": [
    {
     "data": {
      "text/plain": [
       "[1, 2.0, 3, (4+6j)]"
      ]
     },
     "execution_count": 64,
     "metadata": {},
     "output_type": "execute_result"
    }
   ],
   "source": [
    "data['a']"
   ]
  },
  {
   "cell_type": "code",
   "execution_count": 1,
   "metadata": {
    "ExecuteTime": {
     "end_time": "2018-12-21T03:47:10.417322Z",
     "start_time": "2018-12-21T03:47:04.078355Z"
    }
   },
   "outputs": [
    {
     "name": "stdout",
     "output_type": "stream",
     "text": [
      "连接到mysql服务器...\n",
      "连接上了!\n"
     ]
    }
   ],
   "source": [
    "import MySQLdb\n",
    "import gdal\n",
    "from osgeo import ogr\n",
    "import numpy as np\n",
    "import pandas as pd\n",
    "import matplotlib.pyplot as plt\n",
    "import xarray as xr\n",
    "import seaborn as sns\n",
    "import matplotlib.pyplot as plt\n",
    "from scipy.stats import entropy\n",
    "def connectdb():\n",
    "    print('连接到mysql服务器...')\n",
    "    # 打开数据库连接\n",
    "    # 用户名:hp, 密码:Hp12345.,用户名和密码需要改成你自己的mysql用户名和密码，并且要创建数据库TESTDB，并在TESTDB数据库中创建好表Student\n",
    "    db = MySQLdb.connect(\"localhost\",\"root\",\"123456\",\"bigdata\",charset=\"utf8\")\n",
    "    print('连接上了!')\n",
    "    return db\n",
    "db = connectdb()   \n",
    "cursor = db.cursor()\n",
    "sqlin = \"Select * from stationin\"\n",
    "sqlout=\"Select * from stationout\"\n",
    "\n",
    "dfin = pd.read_sql(sqlin, db)\n",
    "dfout= pd.read_sql(sqlout, db)\n",
    "dfin=dfin.set_index('startTime')\n",
    "dfout=dfout.set_index('startTime')"
   ]
  },
  {
   "cell_type": "code",
   "execution_count": 2,
   "metadata": {
    "ExecuteTime": {
     "end_time": "2018-12-21T03:47:13.859082Z",
     "start_time": "2018-12-21T03:47:10.421314Z"
    },
    "collapsed": true
   },
   "outputs": [],
   "source": [
    "import datetime\n",
    "###in data producer\n",
    "threshold=60*60 ### one hour threshold\n",
    "delta=datetime.timedelta(minutes=5)\n",
    "h=int(threshold/delta.seconds)\n",
    "allPre_vectorin=[]\n",
    "for i in range(len(dfin)):\n",
    "    starttime_str=dfin.index[i]\n",
    "    datavector=dfin.iloc[i][:]\n",
    "    starttime_stamp= datetime.datetime.strptime(starttime_str, '%Y-%m-%d %H:%M:%S')\n",
    "    pre_vector=[]\n",
    "    for j in range(h):\n",
    "        preTime_stamp=starttime_stamp-delta*(j+1)\n",
    "        pretime_str=preTime_stamp.strftime('%Y-%m-%d %H:%M:%S')\n",
    "        try:\n",
    "            pre_vector.append(list(dfin.loc[pretime_str][0:]))\n",
    "        except:\n",
    "            pre_vector.append(list(np.zeros(dfin.shape[1])))\n",
    "    allPre_vectorin.append(pre_vector)"
   ]
  },
  {
   "cell_type": "code",
   "execution_count": 3,
   "metadata": {
    "ExecuteTime": {
     "end_time": "2018-12-21T03:47:17.245704Z",
     "start_time": "2018-12-21T03:47:13.860060Z"
    },
    "collapsed": true
   },
   "outputs": [],
   "source": [
    "### out data producer\n",
    "allPre_vectorout=[]\n",
    "for i in range(len(dfout)):\n",
    "    starttime_str=dfout.index[i]\n",
    "    datavector=dfout.iloc[i][:]\n",
    "    starttime_stamp= datetime.datetime.strptime(starttime_str, '%Y-%m-%d %H:%M:%S')\n",
    "    pre_vector=[]\n",
    "    for j in range(h):\n",
    "        preTime_stamp=starttime_stamp-delta*(j+1)\n",
    "        pretime_str=preTime_stamp.strftime('%Y-%m-%d %H:%M:%S')\n",
    "        try:\n",
    "            pre_vector.append(list(dfout.loc[pretime_str][0:]))\n",
    "        except:\n",
    "            pre_vector.append(list(np.zeros(dfout.shape[1])))\n",
    "    allPre_vectorout.append(pre_vector)"
   ]
  },
  {
   "cell_type": "code",
   "execution_count": 5,
   "metadata": {
    "ExecuteTime": {
     "end_time": "2018-12-21T02:26:39.365094Z",
     "start_time": "2018-12-21T02:26:39.194524Z"
    }
   },
   "outputs": [],
   "source": [
    "\n",
    "### store in pickle\n",
    "import pickle\n",
    "data1 = {\n",
    "    'label_in': dfin, ##dataframe\n",
    "    'label_out': dfout,\n",
    "    'data_in': allPre_vectorin, ##array类型\n",
    "    'data_out': allPre_vectorout,\n",
    "    'aver_in': vectorin_sametimeslot,\n",
    "    'aver_out': vectorout_sametimeslot\n",
    "}\n",
    "with open('data1.pickle', 'wb') as f:\n",
    "    # Pickle the 'data' dictionary using the highest protocol available.\n",
    "    pickle.dump(data, f, pickle.HIGHEST_PROTOCOL)\n",
    "\n",
    "with open('data.pickle', 'rb') as f:\n",
    "    # The protocol version used is detected automatically, so we do not\n",
    "    # have to specify it.\n",
    "    data2 = pickle.load(f)"
   ]
  },
  {
   "cell_type": "code",
   "execution_count": 5,
   "metadata": {
    "ExecuteTime": {
     "end_time": "2018-12-21T03:49:08.416060Z",
     "start_time": "2018-12-21T03:48:11.358544Z"
    }
   },
   "outputs": [],
   "source": [
    "###计算协方差矩阵\n",
    "#allPre_vectorin=data2['data_in']\n",
    "#allPre_vectorout=data2['data_out']\n",
    "allPre_vectorout=np.array(allPre_vectorout)\n",
    "allPre_vectorin=np.array(allPre_vectorin)\n",
    "CovPre_vectorin=[]\n",
    "CovPre_vectorout=[]\n",
    "for i in range(allPre_vectorin.shape[0]):\n",
    "    CovPre_vectorin.append(np.cov(np.array(allPre_vectorin)[i].T).tolist())\n",
    "    CovPre_vectorout.append(np.cov(np.array(allPre_vectorout)[i].T).tolist())\n",
    "CovPre_vectorin=np.array(CovPre_vectorin)\n",
    "CovPre_vectorout=np.array(CovPre_vectorout)"
   ]
  },
  {
   "cell_type": "code",
   "execution_count": 28,
   "metadata": {
    "ExecuteTime": {
     "end_time": "2018-12-21T03:24:40.530793Z",
     "start_time": "2018-12-21T03:24:37.216387Z"
    }
   },
   "outputs": [],
   "source": []
  },
  {
   "cell_type": "code",
   "execution_count": 140,
   "metadata": {
    "ExecuteTime": {
     "end_time": "2018-12-21T05:22:02.503999Z",
     "start_time": "2018-12-21T05:22:00.230826Z"
    }
   },
   "outputs": [],
   "source": [
    "vectorin_sametimeslot=[]\n",
    "vectorout_sametimeslot=[]\n",
    "for i in range(dfin.shape[0]):\n",
    "    currentvector=dfin.iloc[i]\n",
    "    vectorin=[]\n",
    "    for j in range(1,7):\n",
    "        othervector=dfin.iloc[(i+j*216)%(216*7)]\n",
    "        othertimestamp=datetime.datetime.strptime(dfin.index[(i+j*216)%(216*7)], '%Y-%m-%d %H:%M:%S')\n",
    "        if othertimestamp.day!=11 and othertimestamp.day!=12:\n",
    "            #print(othertimestamp.day)\n",
    "            vectorin.append(list(othervector))\n",
    "#         else:\n",
    "#             vectorin.append(list(np.zeros(dfin.shape[1]))\n",
    "    #print(len(vectorin),i)\n",
    "    vectorin_sametimeslot.append(vectorin[0:4])\n",
    "    \n",
    "for i in range(dfout.shape[0]):\n",
    "    currentvector=dfout.iloc[i]\n",
    "    vectorout=[]\n",
    "    for j in range(1,7):\n",
    "        othervector=dfout.iloc[(i+j*216)%(216*7)]\n",
    "        othertimestamp=datetime.datetime.strptime(dfout.index[(i+j*216)%(216*7)], '%Y-%m-%d %H:%M:%S')\n",
    "        if othertimestamp.day!=11 and othertimestamp.day!=12:\n",
    "            vectorout.append(list(othervector))\n",
    "#         else:\n",
    "#             vectorout.append(list(np.zeros(dfin.shape[1])))\n",
    "    vectorout_sametimeslot.append(vectorout[0:4])\n",
    "    \n",
    "vectorin_sametimeslot=np.array(vectorin_sametimeslot)\n",
    "vectorout_sametimeslot=np.array(vectorout_sametimeslot)"
   ]
  },
  {
   "cell_type": "code",
   "execution_count": 143,
   "metadata": {
    "ExecuteTime": {
     "end_time": "2018-12-21T05:40:03.817686Z",
     "start_time": "2018-12-21T05:40:03.386329Z"
    }
   },
   "outputs": [],
   "source": []
  },
  {
   "cell_type": "code",
   "execution_count": 144,
   "metadata": {
    "ExecuteTime": {
     "end_time": "2018-12-21T05:40:12.890268Z",
     "start_time": "2018-12-21T05:40:12.882261Z"
    }
   },
   "outputs": [
    {
     "data": {
      "text/plain": [
       "array([[[ 0.,  0.,  0., ...,  0.,  0.,  0.],\n",
       "        [ 0.,  0.,  0., ...,  0.,  0.,  0.],\n",
       "        [ 0.,  0.,  0., ...,  0.,  0.,  0.],\n",
       "        [ 0.,  0.,  0., ...,  0.,  0.,  0.]],\n",
       "\n",
       "       [[ 0.,  0.,  0., ...,  0.,  0.,  0.],\n",
       "        [ 0.,  0.,  0., ...,  0.,  0.,  0.],\n",
       "        [ 0.,  0.,  0., ...,  0.,  0.,  0.],\n",
       "        [ 0.,  0.,  0., ...,  0.,  0.,  0.]],\n",
       "\n",
       "       [[ 0.,  0.,  0., ...,  0.,  0.,  0.],\n",
       "        [ 1.,  1.,  0., ...,  1.,  0.,  0.],\n",
       "        [ 1.,  0.,  0., ...,  0.,  0.,  0.],\n",
       "        [ 1.,  0.,  0., ...,  1.,  0.,  0.]],\n",
       "\n",
       "       ...,\n",
       "\n",
       "       [[ 0.,  0.,  3., ...,  1., 37.,  0.],\n",
       "        [ 0.,  0.,  6., ...,  1., 29.,  0.],\n",
       "        [ 0.,  0.,  8., ...,  0., 35.,  0.],\n",
       "        [ 0.,  0.,  7., ...,  0., 29.,  0.]],\n",
       "\n",
       "       [[ 0.,  0.,  0., ...,  0., 20.,  0.],\n",
       "        [ 0.,  0.,  0., ...,  0.,  2.,  0.],\n",
       "        [ 0.,  0.,  0., ...,  0.,  1.,  0.],\n",
       "        [ 0.,  0.,  0., ...,  0.,  0.,  0.]],\n",
       "\n",
       "       [[ 0.,  0.,  0., ...,  0., 19.,  0.],\n",
       "        [ 0.,  0.,  0., ...,  0., 28.,  0.],\n",
       "        [ 0.,  0.,  0., ...,  0., 39.,  0.],\n",
       "        [ 0.,  0.,  0., ...,  0., 24.,  0.]]])"
      ]
     },
     "execution_count": 144,
     "metadata": {},
     "output_type": "execute_result"
    }
   ],
   "source": [
    "data2['aver_out']"
   ]
  },
  {
   "cell_type": "code",
   "execution_count": 42,
   "metadata": {
    "ExecuteTime": {
     "end_time": "2018-12-21T04:53:18.055200Z",
     "start_time": "2018-12-21T04:53:18.049216Z"
    }
   },
   "outputs": [
    {
     "data": {
      "text/plain": [
       "('2017-02-13 22:40:00', '2017-02-10 22:40:00')"
      ]
     },
     "execution_count": 42,
     "metadata": {},
     "output_type": "execute_result"
    }
   ],
   "source": [
    "dfin.index[(200+216*3)%(216*7)],dfin.index[200]"
   ]
  }
 ],
 "metadata": {
  "kernelspec": {
   "display_name": "Python 3",
   "language": "python",
   "name": "python3"
  },
  "language_info": {
   "codemirror_mode": {
    "name": "ipython",
    "version": 3
   },
   "file_extension": ".py",
   "mimetype": "text/x-python",
   "name": "python",
   "nbconvert_exporter": "python",
   "pygments_lexer": "ipython3",
   "version": "3.6.3"
  }
 },
 "nbformat": 4,
 "nbformat_minor": 2
}
